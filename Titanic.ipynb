{
 "cells": [
  {
   "cell_type": "markdown",
   "id": "15d25c8d",
   "metadata": {},
   "source": [
    "# Data Evaluation"
   ]
  },
  {
   "cell_type": "code",
   "execution_count": 1,
   "id": "745518a5",
   "metadata": {},
   "outputs": [],
   "source": [
    "import pandas as pd\n",
    "import numpy as np\n",
    "import matplotlib.pyplot as plt\n",
    "%matplotlib inline\n",
    "import seaborn as sns"
   ]
  },
  {
   "cell_type": "code",
   "execution_count": 2,
   "id": "2d7d9f80",
   "metadata": {},
   "outputs": [],
   "source": [
    "from sklearn.model_selection import train_test_split\n",
    "from sklearn.linear_model import LogisticRegression\n",
    "from sklearn.metrics import classification_report"
   ]
  },
  {
   "cell_type": "code",
   "execution_count": 3,
   "id": "bf6eb571",
   "metadata": {},
   "outputs": [],
   "source": [
    "df=pd.read_csv(\"https://raw.githubusercontent.com/dsrscientist/dataset1/master/titanic_train.csv\")"
   ]
  },
  {
   "cell_type": "code",
   "execution_count": 4,
   "id": "c350a4b2",
   "metadata": {},
   "outputs": [
    {
     "data": {
      "text/html": [
       "<div>\n",
       "<style scoped>\n",
       "    .dataframe tbody tr th:only-of-type {\n",
       "        vertical-align: middle;\n",
       "    }\n",
       "\n",
       "    .dataframe tbody tr th {\n",
       "        vertical-align: top;\n",
       "    }\n",
       "\n",
       "    .dataframe thead th {\n",
       "        text-align: right;\n",
       "    }\n",
       "</style>\n",
       "<table border=\"1\" class=\"dataframe\">\n",
       "  <thead>\n",
       "    <tr style=\"text-align: right;\">\n",
       "      <th></th>\n",
       "      <th>PassengerId</th>\n",
       "      <th>Survived</th>\n",
       "      <th>Pclass</th>\n",
       "      <th>Name</th>\n",
       "      <th>Sex</th>\n",
       "      <th>Age</th>\n",
       "      <th>SibSp</th>\n",
       "      <th>Parch</th>\n",
       "      <th>Ticket</th>\n",
       "      <th>Fare</th>\n",
       "      <th>Cabin</th>\n",
       "      <th>Embarked</th>\n",
       "    </tr>\n",
       "  </thead>\n",
       "  <tbody>\n",
       "    <tr>\n",
       "      <th>0</th>\n",
       "      <td>1</td>\n",
       "      <td>0</td>\n",
       "      <td>3</td>\n",
       "      <td>Braund, Mr. Owen Harris</td>\n",
       "      <td>male</td>\n",
       "      <td>22.0</td>\n",
       "      <td>1</td>\n",
       "      <td>0</td>\n",
       "      <td>A/5 21171</td>\n",
       "      <td>7.2500</td>\n",
       "      <td>NaN</td>\n",
       "      <td>S</td>\n",
       "    </tr>\n",
       "    <tr>\n",
       "      <th>1</th>\n",
       "      <td>2</td>\n",
       "      <td>1</td>\n",
       "      <td>1</td>\n",
       "      <td>Cumings, Mrs. John Bradley (Florence Briggs Th...</td>\n",
       "      <td>female</td>\n",
       "      <td>38.0</td>\n",
       "      <td>1</td>\n",
       "      <td>0</td>\n",
       "      <td>PC 17599</td>\n",
       "      <td>71.2833</td>\n",
       "      <td>C85</td>\n",
       "      <td>C</td>\n",
       "    </tr>\n",
       "    <tr>\n",
       "      <th>2</th>\n",
       "      <td>3</td>\n",
       "      <td>1</td>\n",
       "      <td>3</td>\n",
       "      <td>Heikkinen, Miss. Laina</td>\n",
       "      <td>female</td>\n",
       "      <td>26.0</td>\n",
       "      <td>0</td>\n",
       "      <td>0</td>\n",
       "      <td>STON/O2. 3101282</td>\n",
       "      <td>7.9250</td>\n",
       "      <td>NaN</td>\n",
       "      <td>S</td>\n",
       "    </tr>\n",
       "    <tr>\n",
       "      <th>3</th>\n",
       "      <td>4</td>\n",
       "      <td>1</td>\n",
       "      <td>1</td>\n",
       "      <td>Futrelle, Mrs. Jacques Heath (Lily May Peel)</td>\n",
       "      <td>female</td>\n",
       "      <td>35.0</td>\n",
       "      <td>1</td>\n",
       "      <td>0</td>\n",
       "      <td>113803</td>\n",
       "      <td>53.1000</td>\n",
       "      <td>C123</td>\n",
       "      <td>S</td>\n",
       "    </tr>\n",
       "    <tr>\n",
       "      <th>4</th>\n",
       "      <td>5</td>\n",
       "      <td>0</td>\n",
       "      <td>3</td>\n",
       "      <td>Allen, Mr. William Henry</td>\n",
       "      <td>male</td>\n",
       "      <td>35.0</td>\n",
       "      <td>0</td>\n",
       "      <td>0</td>\n",
       "      <td>373450</td>\n",
       "      <td>8.0500</td>\n",
       "      <td>NaN</td>\n",
       "      <td>S</td>\n",
       "    </tr>\n",
       "  </tbody>\n",
       "</table>\n",
       "</div>"
      ],
      "text/plain": [
       "   PassengerId  Survived  Pclass  \\\n",
       "0            1         0       3   \n",
       "1            2         1       1   \n",
       "2            3         1       3   \n",
       "3            4         1       1   \n",
       "4            5         0       3   \n",
       "\n",
       "                                                Name     Sex   Age  SibSp  \\\n",
       "0                            Braund, Mr. Owen Harris    male  22.0      1   \n",
       "1  Cumings, Mrs. John Bradley (Florence Briggs Th...  female  38.0      1   \n",
       "2                             Heikkinen, Miss. Laina  female  26.0      0   \n",
       "3       Futrelle, Mrs. Jacques Heath (Lily May Peel)  female  35.0      1   \n",
       "4                           Allen, Mr. William Henry    male  35.0      0   \n",
       "\n",
       "   Parch            Ticket     Fare Cabin Embarked  \n",
       "0      0         A/5 21171   7.2500   NaN        S  \n",
       "1      0          PC 17599  71.2833   C85        C  \n",
       "2      0  STON/O2. 3101282   7.9250   NaN        S  \n",
       "3      0            113803  53.1000  C123        S  \n",
       "4      0            373450   8.0500   NaN        S  "
      ]
     },
     "execution_count": 4,
     "metadata": {},
     "output_type": "execute_result"
    }
   ],
   "source": [
    "df.head()"
   ]
  },
  {
   "cell_type": "code",
   "execution_count": 5,
   "id": "d0b71c55",
   "metadata": {},
   "outputs": [
    {
     "data": {
      "text/plain": [
       "Index(['PassengerId', 'Survived', 'Pclass', 'Name', 'Sex', 'Age', 'SibSp',\n",
       "       'Parch', 'Ticket', 'Fare', 'Cabin', 'Embarked'],\n",
       "      dtype='object')"
      ]
     },
     "execution_count": 5,
     "metadata": {},
     "output_type": "execute_result"
    }
   ],
   "source": [
    "df.columns"
   ]
  },
  {
   "cell_type": "code",
   "execution_count": 7,
   "id": "e1b29e8e",
   "metadata": {},
   "outputs": [
    {
     "data": {
      "text/html": [
       "<div>\n",
       "<style scoped>\n",
       "    .dataframe tbody tr th:only-of-type {\n",
       "        vertical-align: middle;\n",
       "    }\n",
       "\n",
       "    .dataframe tbody tr th {\n",
       "        vertical-align: top;\n",
       "    }\n",
       "\n",
       "    .dataframe thead th {\n",
       "        text-align: right;\n",
       "    }\n",
       "</style>\n",
       "<table border=\"1\" class=\"dataframe\">\n",
       "  <thead>\n",
       "    <tr style=\"text-align: right;\">\n",
       "      <th></th>\n",
       "      <th>PassengerId</th>\n",
       "      <th>Survived</th>\n",
       "      <th>Pclass</th>\n",
       "      <th>Age</th>\n",
       "      <th>SibSp</th>\n",
       "      <th>Parch</th>\n",
       "      <th>Fare</th>\n",
       "    </tr>\n",
       "  </thead>\n",
       "  <tbody>\n",
       "    <tr>\n",
       "      <th>count</th>\n",
       "      <td>891.000000</td>\n",
       "      <td>891.000000</td>\n",
       "      <td>891.000000</td>\n",
       "      <td>714.000000</td>\n",
       "      <td>891.000000</td>\n",
       "      <td>891.000000</td>\n",
       "      <td>891.000000</td>\n",
       "    </tr>\n",
       "    <tr>\n",
       "      <th>mean</th>\n",
       "      <td>446.000000</td>\n",
       "      <td>0.383838</td>\n",
       "      <td>2.308642</td>\n",
       "      <td>29.699118</td>\n",
       "      <td>0.523008</td>\n",
       "      <td>0.381594</td>\n",
       "      <td>32.204208</td>\n",
       "    </tr>\n",
       "    <tr>\n",
       "      <th>std</th>\n",
       "      <td>257.353842</td>\n",
       "      <td>0.486592</td>\n",
       "      <td>0.836071</td>\n",
       "      <td>14.526497</td>\n",
       "      <td>1.102743</td>\n",
       "      <td>0.806057</td>\n",
       "      <td>49.693429</td>\n",
       "    </tr>\n",
       "    <tr>\n",
       "      <th>min</th>\n",
       "      <td>1.000000</td>\n",
       "      <td>0.000000</td>\n",
       "      <td>1.000000</td>\n",
       "      <td>0.420000</td>\n",
       "      <td>0.000000</td>\n",
       "      <td>0.000000</td>\n",
       "      <td>0.000000</td>\n",
       "    </tr>\n",
       "    <tr>\n",
       "      <th>25%</th>\n",
       "      <td>223.500000</td>\n",
       "      <td>0.000000</td>\n",
       "      <td>2.000000</td>\n",
       "      <td>20.125000</td>\n",
       "      <td>0.000000</td>\n",
       "      <td>0.000000</td>\n",
       "      <td>7.910400</td>\n",
       "    </tr>\n",
       "    <tr>\n",
       "      <th>50%</th>\n",
       "      <td>446.000000</td>\n",
       "      <td>0.000000</td>\n",
       "      <td>3.000000</td>\n",
       "      <td>28.000000</td>\n",
       "      <td>0.000000</td>\n",
       "      <td>0.000000</td>\n",
       "      <td>14.454200</td>\n",
       "    </tr>\n",
       "    <tr>\n",
       "      <th>75%</th>\n",
       "      <td>668.500000</td>\n",
       "      <td>1.000000</td>\n",
       "      <td>3.000000</td>\n",
       "      <td>38.000000</td>\n",
       "      <td>1.000000</td>\n",
       "      <td>0.000000</td>\n",
       "      <td>31.000000</td>\n",
       "    </tr>\n",
       "    <tr>\n",
       "      <th>max</th>\n",
       "      <td>891.000000</td>\n",
       "      <td>1.000000</td>\n",
       "      <td>3.000000</td>\n",
       "      <td>80.000000</td>\n",
       "      <td>8.000000</td>\n",
       "      <td>6.000000</td>\n",
       "      <td>512.329200</td>\n",
       "    </tr>\n",
       "  </tbody>\n",
       "</table>\n",
       "</div>"
      ],
      "text/plain": [
       "       PassengerId    Survived      Pclass         Age       SibSp  \\\n",
       "count   891.000000  891.000000  891.000000  714.000000  891.000000   \n",
       "mean    446.000000    0.383838    2.308642   29.699118    0.523008   \n",
       "std     257.353842    0.486592    0.836071   14.526497    1.102743   \n",
       "min       1.000000    0.000000    1.000000    0.420000    0.000000   \n",
       "25%     223.500000    0.000000    2.000000   20.125000    0.000000   \n",
       "50%     446.000000    0.000000    3.000000   28.000000    0.000000   \n",
       "75%     668.500000    1.000000    3.000000   38.000000    1.000000   \n",
       "max     891.000000    1.000000    3.000000   80.000000    8.000000   \n",
       "\n",
       "            Parch        Fare  \n",
       "count  891.000000  891.000000  \n",
       "mean     0.381594   32.204208  \n",
       "std      0.806057   49.693429  \n",
       "min      0.000000    0.000000  \n",
       "25%      0.000000    7.910400  \n",
       "50%      0.000000   14.454200  \n",
       "75%      0.000000   31.000000  \n",
       "max      6.000000  512.329200  "
      ]
     },
     "execution_count": 7,
     "metadata": {},
     "output_type": "execute_result"
    }
   ],
   "source": [
    "df.describe()"
   ]
  },
  {
   "cell_type": "code",
   "execution_count": 8,
   "id": "ba3f7190",
   "metadata": {},
   "outputs": [
    {
     "name": "stdout",
     "output_type": "stream",
     "text": [
      "<class 'pandas.core.frame.DataFrame'>\n",
      "RangeIndex: 891 entries, 0 to 890\n",
      "Data columns (total 12 columns):\n",
      " #   Column       Non-Null Count  Dtype  \n",
      "---  ------       --------------  -----  \n",
      " 0   PassengerId  891 non-null    int64  \n",
      " 1   Survived     891 non-null    int64  \n",
      " 2   Pclass       891 non-null    int64  \n",
      " 3   Name         891 non-null    object \n",
      " 4   Sex          891 non-null    object \n",
      " 5   Age          714 non-null    float64\n",
      " 6   SibSp        891 non-null    int64  \n",
      " 7   Parch        891 non-null    int64  \n",
      " 8   Ticket       891 non-null    object \n",
      " 9   Fare         891 non-null    float64\n",
      " 10  Cabin        204 non-null    object \n",
      " 11  Embarked     889 non-null    object \n",
      "dtypes: float64(2), int64(5), object(5)\n",
      "memory usage: 83.7+ KB\n"
     ]
    }
   ],
   "source": [
    "df.info()"
   ]
  },
  {
   "cell_type": "code",
   "execution_count": 9,
   "id": "af1501c2",
   "metadata": {},
   "outputs": [
    {
     "data": {
      "text/plain": [
       "(891, 12)"
      ]
     },
     "execution_count": 9,
     "metadata": {},
     "output_type": "execute_result"
    }
   ],
   "source": [
    "df.shape"
   ]
  },
  {
   "cell_type": "markdown",
   "id": "7d309890",
   "metadata": {},
   "source": [
    "2.EDA"
   ]
  },
  {
   "cell_type": "code",
   "execution_count": 10,
   "id": "3ffc9f52",
   "metadata": {},
   "outputs": [
    {
     "data": {
      "text/plain": [
       "<AxesSubplot:xlabel='Survived', ylabel='count'>"
      ]
     },
     "execution_count": 10,
     "metadata": {},
     "output_type": "execute_result"
    },
    {
     "data": {
      "image/png": "[encoded data removed]",
      "text/plain": [
       "<Figure size 432x288 with 1 Axes>"
      ]
     },
     "metadata": {
      "needs_background": "light"
     },
     "output_type": "display_data"
    }
   ],
   "source": [
    "sns.countplot(x='Survived', data=df)"
   ]
  },
  {
   "cell_type": "markdown",
   "id": "5e432c6d",
   "metadata": {},
   "source": [
    "Inference:Not survived data is more than survived data.\n",
    "\n",
    "There is only a minor class imbalance."
   ]
  },
  {
   "cell_type": "code",
   "execution_count": 11,
   "id": "b6eee6e9",
   "metadata": {},
   "outputs": [
    {
     "data": {
      "text/plain": [
       "<AxesSubplot:xlabel='Survived', ylabel='count'>"
      ]
     },
     "execution_count": 11,
     "metadata": {},
     "output_type": "execute_result"
    },
    {
     "data": {
      "image/png": "[encoded data removed]",
      "text/plain": [
       "<Figure size 432x288 with 1 Axes>"
      ]
     },
     "metadata": {
      "needs_background": "light"
     },
     "output_type": "display_data"
    }
   ],
   "source": [
    "sns.countplot(x='Survived', hue='Sex', data=df)"
   ]
  },
  {
   "cell_type": "markdown",
   "id": "10979144",
   "metadata": {},
   "source": [
    "Inference:Female death rate is higher than male."
   ]
  },
  {
   "cell_type": "code",
   "execution_count": 12,
   "id": "78625aa5",
   "metadata": {},
   "outputs": [
    {
     "data": {
      "text/plain": [
       "<AxesSubplot:xlabel='Survived', ylabel='count'>"
      ]
     },
     "execution_count": 12,
     "metadata": {},
     "output_type": "execute_result"
    },
    {
     "data": {
      "image/png": "[encoded data removed]",
      "text/plain": [
       "<Figure size 432x288 with 1 Axes>"
      ]
     },
     "metadata": {
      "needs_background": "light"
     },
     "output_type": "display_data"
    }
   ],
   "source": [
    "sns.countplot(x='Survived', hue='Pclass', data=df)"
   ]
  },
  {
   "cell_type": "markdown",
   "id": "0ca17065",
   "metadata": {},
   "source": [
    "Inference: Third class passengers are not highly survived in the accident."
   ]
  },
  {
   "cell_type": "code",
   "execution_count": 13,
   "id": "f2952e6c",
   "metadata": {},
   "outputs": [
    {
     "data": {
      "text/plain": [
       "(array([ 54.,  46., 177., 169., 118.,  70.,  45.,  24.,   9.,   2.]),\n",
       " array([ 0.42 ,  8.378, 16.336, 24.294, 32.252, 40.21 , 48.168, 56.126,\n",
       "        64.084, 72.042, 80.   ]),\n",
       " <BarContainer object of 10 artists>)"
      ]
     },
     "execution_count": 13,
     "metadata": {},
     "output_type": "execute_result"
    },
    {
     "data": {
      "image/png": "[encoded data removed]",
      "text/plain": [
       "<Figure size 432x288 with 1 Axes>"
      ]
     },
     "metadata": {
      "needs_background": "light"
     },
     "output_type": "display_data"
    }
   ],
   "source": [
    "plt.hist(df['Age'].dropna())"
   ]
  },
  {
   "cell_type": "code",
   "execution_count": 14,
   "id": "c38901a6",
   "metadata": {},
   "outputs": [
    {
     "name": "stderr",
     "output_type": "stream",
     "text": [
      "C:\\Users\\nams1\\lib\\site-packages\\seaborn\\_decorators.py:36: FutureWarning: Pass the following variables as keyword args: x, y. From version 0.12, the only valid positional argument will be `data`, and passing other arguments without an explicit keyword will result in an error or misinterpretation.\n",
      "  warnings.warn(\n"
     ]
    },
    {
     "data": {
      "text/plain": [
       "<AxesSubplot:xlabel='Pclass', ylabel='Age'>"
      ]
     },
     "execution_count": 14,
     "metadata": {},
     "output_type": "execute_result"
    },
    {
     "data": {
      "image/png": "[encoded data removed]",
      "text/plain": [
       "<Figure size 432x288 with 1 Axes>"
      ]
     },
     "metadata": {
      "needs_background": "light"
     },
     "output_type": "display_data"
    }
   ],
   "source": [
    "sns.boxplot(df['Pclass'], df['Age'])"
   ]
  },
  {
   "cell_type": "markdown",
   "id": "94ef6fa5",
   "metadata": {},
   "source": [
    "Inference:The data of first class passengers are equally distributed.\n",
    "\n",
    "\n",
    "\n",
    "There are some outliers present in 2 and 3 class passenger data."
   ]
  },
  {
   "cell_type": "code",
   "execution_count": 15,
   "id": "9764fb68",
   "metadata": {},
   "outputs": [
    {
     "data": {
      "text/plain": [
       "<AxesSubplot:>"
      ]
     },
     "execution_count": 15,
     "metadata": {},
     "output_type": "execute_result"
    },
    {
     "data": {
      "image/png": "[encoded data removed]",
      "text/plain": [
       "<Figure size 432x288 with 1 Axes>"
      ]
     },
     "metadata": {
      "needs_background": "light"
     },
     "output_type": "display_data"
    }
   ],
   "source": [
    "df.corr()['Survived'].sort_values(ascending=False).drop(['Survived']).plot(kind='bar')"
   ]
  },
  {
   "cell_type": "markdown",
   "id": "4187a86f",
   "metadata": {},
   "source": [
    "Inference: Pclass is highly correlated with the Survived data.\n",
    "\n",
    "\n",
    "where SibSp is least correlated with Survived data."
   ]
  },
  {
   "cell_type": "code",
   "execution_count": 16,
   "id": "d8b86db6",
   "metadata": {},
   "outputs": [
    {
     "data": {
      "text/plain": [
       "<AxesSubplot:>"
      ]
     },
     "execution_count": 16,
     "metadata": {},
     "output_type": "execute_result"
    },
    {
     "data": {
      "image/png": "[encoded data removed]",
      "text/plain": [
       "<Figure size 432x288 with 2 Axes>"
      ]
     },
     "metadata": {
      "needs_background": "light"
     },
     "output_type": "display_data"
    }
   ],
   "source": [
    "sns.heatmap(df.corr())"
   ]
  },
  {
   "cell_type": "markdown",
   "id": "3c8136a6",
   "metadata": {},
   "source": [
    "#3 Feature engineering"
   ]
  },
  {
   "cell_type": "code",
   "execution_count": 17,
   "id": "2625bcec",
   "metadata": {},
   "outputs": [
    {
     "name": "stdout",
     "output_type": "stream",
     "text": [
      "PassengerId      0\n",
      "Survived         0\n",
      "Pclass           0\n",
      "Name             0\n",
      "Sex              0\n",
      "Age            177\n",
      "SibSp            0\n",
      "Parch            0\n",
      "Ticket           0\n",
      "Fare             0\n",
      "Cabin          687\n",
      "Embarked         2\n",
      "dtype: int64\n"
     ]
    }
   ],
   "source": [
    "print(df.isnull().sum())"
   ]
  },
  {
   "cell_type": "markdown",
   "id": "796d9f77",
   "metadata": {},
   "source": [
    "Replacing the missing values with the corresponding column"
   ]
  },
  {
   "cell_type": "code",
   "execution_count": 18,
   "id": "050dcb29",
   "metadata": {},
   "outputs": [],
   "source": [
    "def impute_missing_age(columns):\n",
    "\n",
    "    age = columns[0]\n",
    "\n",
    "    passenger_class = columns[1]\n",
    "\n",
    "    \n",
    "\n",
    "    if pd.isnull(age):\n",
    "\n",
    "        if(passenger_class == 1):\n",
    "\n",
    "            return df[df['Pclass'] == 1]['Age'].mean()\n",
    "\n",
    "        elif(passenger_class == 2):\n",
    "\n",
    "            return df[df['Pclass'] == 2]['Age'].mean()\n",
    "\n",
    "        elif(passenger_class == 3):\n",
    "\n",
    "            return df[df['Pclass'] == 3]['Age'].mean()\n",
    "\n",
    "    else:\n",
    "\n",
    "        return age\n",
    "df['Age'] = df[['Age','Pclass']].apply(impute_missing_age,axis = 1)"
   ]
  },
  {
   "cell_type": "markdown",
   "id": "ae649196",
   "metadata": {},
   "source": [
    "Droping the cabin column since it is less correlated with Survived data"
   ]
  },
  {
   "cell_type": "code",
   "execution_count": 19,
   "id": "8f75f133",
   "metadata": {},
   "outputs": [],
   "source": [
    "df.drop('Cabin', axis=1, inplace = True)"
   ]
  },
  {
   "cell_type": "code",
   "execution_count": 20,
   "id": "d148263c",
   "metadata": {},
   "outputs": [],
   "source": [
    "# Droping rows with missing values"
   ]
  },
  {
   "cell_type": "code",
   "execution_count": 21,
   "id": "aeb4b1a3",
   "metadata": {},
   "outputs": [],
   "source": [
    "df.dropna(inplace=True)"
   ]
  },
  {
   "cell_type": "code",
   "execution_count": 22,
   "id": "98295fe0",
   "metadata": {},
   "outputs": [
    {
     "name": "stdout",
     "output_type": "stream",
     "text": [
      "PassengerId    0\n",
      "Survived       0\n",
      "Pclass         0\n",
      "Name           0\n",
      "Sex            0\n",
      "Age            0\n",
      "SibSp          0\n",
      "Parch          0\n",
      "Ticket         0\n",
      "Fare           0\n",
      "Embarked       0\n",
      "dtype: int64\n"
     ]
    }
   ],
   "source": [
    "print(df.isnull().sum())"
   ]
  },
  {
   "cell_type": "code",
   "execution_count": 23,
   "id": "f5c3e535",
   "metadata": {},
   "outputs": [],
   "source": [
    "#Droping the unwanted columns"
   ]
  },
  {
   "cell_type": "code",
   "execution_count": 25,
   "id": "256aacee",
   "metadata": {},
   "outputs": [],
   "source": [
    "df.drop(['Name','PassengerId','Ticket','Embarked'],axis = 1, inplace =True)"
   ]
  },
  {
   "cell_type": "markdown",
   "id": "9063c24f",
   "metadata": {},
   "source": [
    "# Encoding the sex column"
   ]
  },
  {
   "cell_type": "code",
   "execution_count": 27,
   "id": "a721cd9e",
   "metadata": {},
   "outputs": [],
   "source": [
    "from sklearn.preprocessing import LabelEncoder\n",
    "LE = LabelEncoder()\n",
    "df['Sex']=LE.fit_transform(df['Sex'])"
   ]
  },
  {
   "cell_type": "code",
   "execution_count": 28,
   "id": "e3a0fce4",
   "metadata": {},
   "outputs": [
    {
     "name": "stdout",
     "output_type": "stream",
     "text": [
      "<class 'pandas.core.frame.DataFrame'>\n",
      "Int64Index: 889 entries, 0 to 890\n",
      "Data columns (total 7 columns):\n",
      " #   Column    Non-Null Count  Dtype  \n",
      "---  ------    --------------  -----  \n",
      " 0   Survived  889 non-null    int64  \n",
      " 1   Pclass    889 non-null    int64  \n",
      " 2   Sex       889 non-null    int32  \n",
      " 3   Age       889 non-null    float64\n",
      " 4   SibSp     889 non-null    int64  \n",
      " 5   Parch     889 non-null    int64  \n",
      " 6   Fare      889 non-null    float64\n",
      "dtypes: float64(2), int32(1), int64(4)\n",
      "memory usage: 52.1 KB\n"
     ]
    }
   ],
   "source": [
    "df.info()"
   ]
  },
  {
   "cell_type": "code",
   "execution_count": 29,
   "id": "81ff66fe",
   "metadata": {},
   "outputs": [],
   "source": [
    "# Skewness and Outlier detection"
   ]
  },
  {
   "cell_type": "code",
   "execution_count": 30,
   "id": "39c8fea4",
   "metadata": {},
   "outputs": [
    {
     "data": {
      "text/plain": [
       "Survived    0.484568\n",
       "Pclass     -0.636998\n",
       "Sex        -0.625625\n",
       "Age         0.507710\n",
       "SibSp       3.691058\n",
       "Parch       2.745160\n",
       "Fare        4.801440\n",
       "dtype: float64"
      ]
     },
     "execution_count": 30,
     "metadata": {},
     "output_type": "execute_result"
    }
   ],
   "source": [
    "df.skew()"
   ]
  },
  {
   "cell_type": "markdown",
   "id": "a871e690",
   "metadata": {},
   "source": [
    "Using Zscore method to remove outlier"
   ]
  },
  {
   "cell_type": "code",
   "execution_count": 31,
   "id": "26ec72e8",
   "metadata": {},
   "outputs": [
    {
     "name": "stdout",
     "output_type": "stream",
     "text": [
      "Old Shape:  (889, 7)\n",
      "[[0.78696114 0.82520863 0.73534203 ... 0.43135024 0.47432585 0.50023975]\n",
      " [1.27071078 1.57221121 1.35991138 ... 0.43135024 0.47432585 0.78894661]\n",
      " [1.27071078 0.82520863 1.35991138 ... 0.47519908 0.47432585 0.48664993]\n",
      " ...\n",
      " [0.78696114 0.82520863 1.35991138 ... 0.43135024 2.00611934 0.17408416]\n",
      " [1.27071078 1.57221121 0.73534203 ... 0.47519908 0.47432585 0.0422126 ]\n",
      " [0.78696114 0.82520863 0.73534203 ... 0.47519908 0.47432585 0.49017322]]\n"
     ]
    }
   ],
   "source": [
    "from scipy import stats\n",
    "import numpy as np\n",
    "print(\"Old Shape: \", df.shape)   \n",
    "z = np.abs(stats.zscore(df))\n",
    "print(z)"
   ]
  },
  {
   "cell_type": "code",
   "execution_count": 32,
   "id": "bab4b414",
   "metadata": {},
   "outputs": [
    {
     "name": "stdout",
     "output_type": "stream",
     "text": [
      "(array([ 13,  16,  25,  27,  50,  59,  67,  70,  85,  87,  95, 115, 117,\n",
      "       118, 158, 163, 166, 170, 179, 181, 200, 232, 257, 260, 265, 277,\n",
      "       298, 310, 323, 340, 359, 376, 379, 385, 436, 437, 437, 479, 492,\n",
      "       526, 540, 541, 556, 566, 609, 629, 637, 671, 677, 678, 682, 685,\n",
      "       688, 699, 715, 729, 735, 736, 741, 744, 773, 778, 786, 791, 812,\n",
      "       823, 844, 848, 849, 856, 861, 883], dtype=int64), array([5, 4, 5, 6, 4, 4, 4, 4, 5, 6, 3, 3, 6, 4, 4, 4, 5, 4, 4, 4, 4, 4,\n",
      "       6, 4, 4, 4, 6, 6, 4, 6, 5, 6, 6, 4, 5, 5, 6, 4, 3, 6, 4, 4, 6, 5,\n",
      "       5, 3, 5, 3, 5, 6, 4, 4, 6, 6, 6, 6, 5, 6, 6, 3, 5, 6, 4, 4, 4, 4,\n",
      "       4, 4, 3, 5, 4, 5], dtype=int64))\n"
     ]
    }
   ],
   "source": [
    "threshold = 3\n",
    "print(np.where(z > 3))"
   ]
  },
  {
   "cell_type": "code",
   "execution_count": 33,
   "id": "c647ebbf",
   "metadata": {},
   "outputs": [],
   "source": [
    "after_zscore = df[(z < 3).all(axis=1)]"
   ]
  },
  {
   "cell_type": "code",
   "execution_count": 34,
   "id": "657ba771",
   "metadata": {},
   "outputs": [
    {
     "data": {
      "text/plain": [
       "(818, 7)"
      ]
     },
     "execution_count": 34,
     "metadata": {},
     "output_type": "execute_result"
    }
   ],
   "source": [
    "after_zscore.shape"
   ]
  },
  {
   "cell_type": "code",
   "execution_count": 35,
   "id": "ee2806bb",
   "metadata": {},
   "outputs": [
    {
     "data": {
      "text/plain": [
       "Survived    0.457268\n",
       "Pclass     -0.639191\n",
       "Sex        -0.671699\n",
       "Age         0.400467\n",
       "SibSp       1.975774\n",
       "Parch       2.118544\n",
       "Fare        2.342849\n",
       "dtype: float64"
      ]
     },
     "execution_count": 35,
     "metadata": {},
     "output_type": "execute_result"
    }
   ],
   "source": [
    "after_zscore.skew()"
   ]
  },
  {
   "cell_type": "code",
   "execution_count": 36,
   "id": "8f585e22",
   "metadata": {},
   "outputs": [],
   "source": [
    "df=after_zscore"
   ]
  },
  {
   "cell_type": "markdown",
   "id": "23c1423d",
   "metadata": {},
   "source": [
    "Using Square root transformation method to reduce Skewness."
   ]
  },
  {
   "cell_type": "code",
   "execution_count": 37,
   "id": "9c538640",
   "metadata": {},
   "outputs": [
    {
     "data": {
      "text/html": [
       "<div>\n",
       "<style scoped>\n",
       "    .dataframe tbody tr th:only-of-type {\n",
       "        vertical-align: middle;\n",
       "    }\n",
       "\n",
       "    .dataframe tbody tr th {\n",
       "        vertical-align: top;\n",
       "    }\n",
       "\n",
       "    .dataframe thead th {\n",
       "        text-align: right;\n",
       "    }\n",
       "</style>\n",
       "<table border=\"1\" class=\"dataframe\">\n",
       "  <thead>\n",
       "    <tr style=\"text-align: right;\">\n",
       "      <th></th>\n",
       "      <th>Survived</th>\n",
       "      <th>Pclass</th>\n",
       "      <th>Sex</th>\n",
       "      <th>Age</th>\n",
       "      <th>SibSp</th>\n",
       "      <th>Parch</th>\n",
       "      <th>Fare</th>\n",
       "    </tr>\n",
       "  </thead>\n",
       "  <tbody>\n",
       "    <tr>\n",
       "      <th>0</th>\n",
       "      <td>0.0</td>\n",
       "      <td>1.732051</td>\n",
       "      <td>1.0</td>\n",
       "      <td>4.690416</td>\n",
       "      <td>1.000000</td>\n",
       "      <td>0.000000</td>\n",
       "      <td>2.692582</td>\n",
       "    </tr>\n",
       "    <tr>\n",
       "      <th>1</th>\n",
       "      <td>1.0</td>\n",
       "      <td>1.000000</td>\n",
       "      <td>0.0</td>\n",
       "      <td>6.164414</td>\n",
       "      <td>1.000000</td>\n",
       "      <td>0.000000</td>\n",
       "      <td>8.442944</td>\n",
       "    </tr>\n",
       "    <tr>\n",
       "      <th>2</th>\n",
       "      <td>1.0</td>\n",
       "      <td>1.732051</td>\n",
       "      <td>0.0</td>\n",
       "      <td>5.099020</td>\n",
       "      <td>0.000000</td>\n",
       "      <td>0.000000</td>\n",
       "      <td>2.815138</td>\n",
       "    </tr>\n",
       "    <tr>\n",
       "      <th>3</th>\n",
       "      <td>1.0</td>\n",
       "      <td>1.000000</td>\n",
       "      <td>0.0</td>\n",
       "      <td>5.916080</td>\n",
       "      <td>1.000000</td>\n",
       "      <td>0.000000</td>\n",
       "      <td>7.286975</td>\n",
       "    </tr>\n",
       "    <tr>\n",
       "      <th>4</th>\n",
       "      <td>0.0</td>\n",
       "      <td>1.732051</td>\n",
       "      <td>1.0</td>\n",
       "      <td>5.916080</td>\n",
       "      <td>0.000000</td>\n",
       "      <td>0.000000</td>\n",
       "      <td>2.837252</td>\n",
       "    </tr>\n",
       "    <tr>\n",
       "      <th>5</th>\n",
       "      <td>0.0</td>\n",
       "      <td>1.732051</td>\n",
       "      <td>1.0</td>\n",
       "      <td>5.014042</td>\n",
       "      <td>0.000000</td>\n",
       "      <td>0.000000</td>\n",
       "      <td>2.908316</td>\n",
       "    </tr>\n",
       "    <tr>\n",
       "      <th>6</th>\n",
       "      <td>0.0</td>\n",
       "      <td>1.000000</td>\n",
       "      <td>1.0</td>\n",
       "      <td>7.348469</td>\n",
       "      <td>0.000000</td>\n",
       "      <td>0.000000</td>\n",
       "      <td>7.201562</td>\n",
       "    </tr>\n",
       "    <tr>\n",
       "      <th>7</th>\n",
       "      <td>0.0</td>\n",
       "      <td>1.732051</td>\n",
       "      <td>1.0</td>\n",
       "      <td>1.414214</td>\n",
       "      <td>1.732051</td>\n",
       "      <td>1.000000</td>\n",
       "      <td>4.590752</td>\n",
       "    </tr>\n",
       "    <tr>\n",
       "      <th>8</th>\n",
       "      <td>1.0</td>\n",
       "      <td>1.732051</td>\n",
       "      <td>0.0</td>\n",
       "      <td>5.196152</td>\n",
       "      <td>0.000000</td>\n",
       "      <td>1.414214</td>\n",
       "      <td>3.336660</td>\n",
       "    </tr>\n",
       "    <tr>\n",
       "      <th>9</th>\n",
       "      <td>1.0</td>\n",
       "      <td>1.414214</td>\n",
       "      <td>0.0</td>\n",
       "      <td>3.741657</td>\n",
       "      <td>1.000000</td>\n",
       "      <td>0.000000</td>\n",
       "      <td>5.483685</td>\n",
       "    </tr>\n",
       "    <tr>\n",
       "      <th>10</th>\n",
       "      <td>1.0</td>\n",
       "      <td>1.732051</td>\n",
       "      <td>0.0</td>\n",
       "      <td>2.000000</td>\n",
       "      <td>1.000000</td>\n",
       "      <td>1.000000</td>\n",
       "      <td>4.086563</td>\n",
       "    </tr>\n",
       "    <tr>\n",
       "      <th>11</th>\n",
       "      <td>1.0</td>\n",
       "      <td>1.000000</td>\n",
       "      <td>0.0</td>\n",
       "      <td>7.615773</td>\n",
       "      <td>0.000000</td>\n",
       "      <td>0.000000</td>\n",
       "      <td>5.152669</td>\n",
       "    </tr>\n",
       "    <tr>\n",
       "      <th>12</th>\n",
       "      <td>0.0</td>\n",
       "      <td>1.732051</td>\n",
       "      <td>1.0</td>\n",
       "      <td>4.472136</td>\n",
       "      <td>0.000000</td>\n",
       "      <td>0.000000</td>\n",
       "      <td>2.837252</td>\n",
       "    </tr>\n",
       "    <tr>\n",
       "      <th>14</th>\n",
       "      <td>0.0</td>\n",
       "      <td>1.732051</td>\n",
       "      <td>0.0</td>\n",
       "      <td>3.741657</td>\n",
       "      <td>0.000000</td>\n",
       "      <td>0.000000</td>\n",
       "      <td>2.802535</td>\n",
       "    </tr>\n",
       "    <tr>\n",
       "      <th>15</th>\n",
       "      <td>1.0</td>\n",
       "      <td>1.414214</td>\n",
       "      <td>0.0</td>\n",
       "      <td>7.416198</td>\n",
       "      <td>0.000000</td>\n",
       "      <td>0.000000</td>\n",
       "      <td>4.000000</td>\n",
       "    </tr>\n",
       "  </tbody>\n",
       "</table>\n",
       "</div>"
      ],
      "text/plain": [
       "    Survived    Pclass  Sex       Age     SibSp     Parch      Fare\n",
       "0        0.0  1.732051  1.0  4.690416  1.000000  0.000000  2.692582\n",
       "1        1.0  1.000000  0.0  6.164414  1.000000  0.000000  8.442944\n",
       "2        1.0  1.732051  0.0  5.099020  0.000000  0.000000  2.815138\n",
       "3        1.0  1.000000  0.0  5.916080  1.000000  0.000000  7.286975\n",
       "4        0.0  1.732051  1.0  5.916080  0.000000  0.000000  2.837252\n",
       "5        0.0  1.732051  1.0  5.014042  0.000000  0.000000  2.908316\n",
       "6        0.0  1.000000  1.0  7.348469  0.000000  0.000000  7.201562\n",
       "7        0.0  1.732051  1.0  1.414214  1.732051  1.000000  4.590752\n",
       "8        1.0  1.732051  0.0  5.196152  0.000000  1.414214  3.336660\n",
       "9        1.0  1.414214  0.0  3.741657  1.000000  0.000000  5.483685\n",
       "10       1.0  1.732051  0.0  2.000000  1.000000  1.000000  4.086563\n",
       "11       1.0  1.000000  0.0  7.615773  0.000000  0.000000  5.152669\n",
       "12       0.0  1.732051  1.0  4.472136  0.000000  0.000000  2.837252\n",
       "14       0.0  1.732051  0.0  3.741657  0.000000  0.000000  2.802535\n",
       "15       1.0  1.414214  0.0  7.416198  0.000000  0.000000  4.000000"
      ]
     },
     "execution_count": 37,
     "metadata": {},
     "output_type": "execute_result"
    }
   ],
   "source": [
    "#calculating the square root for data\n",
    "\n",
    "df1 = np.sqrt(df)\n",
    "\n",
    "df1.head(15)"
   ]
  },
  {
   "cell_type": "code",
   "execution_count": 38,
   "id": "692f7499",
   "metadata": {},
   "outputs": [
    {
     "data": {
      "text/plain": [
       "Survived    0.457268\n",
       "Pclass     -0.758649\n",
       "Sex        -0.671699\n",
       "Age        -0.812475\n",
       "SibSp       1.133008\n",
       "Parch       1.719456\n",
       "Fare        1.363890\n",
       "dtype: float64"
      ]
     },
     "execution_count": 38,
     "metadata": {},
     "output_type": "execute_result"
    }
   ],
   "source": [
    "df1.skew()"
   ]
  },
  {
   "cell_type": "code",
   "execution_count": 40,
   "id": "a3f53897",
   "metadata": {},
   "outputs": [],
   "source": [
    "#Skewness is reduced"
   ]
  },
  {
   "cell_type": "code",
   "execution_count": 41,
   "id": "18e654dd",
   "metadata": {},
   "outputs": [],
   "source": [
    "df=df1"
   ]
  },
  {
   "cell_type": "code",
   "execution_count": 42,
   "id": "f3214748",
   "metadata": {},
   "outputs": [],
   "source": [
    "y = df['Survived']\n",
    "x = df.drop('Survived', axis = 1)"
   ]
  },
  {
   "cell_type": "code",
   "execution_count": 43,
   "id": "fae440c2",
   "metadata": {},
   "outputs": [],
   "source": [
    "# Test Train Split"
   ]
  },
  {
   "cell_type": "code",
   "execution_count": 44,
   "id": "77355fd6",
   "metadata": {},
   "outputs": [],
   "source": [
    "x_train, x_test, y_train, y_test = train_test_split(x,y,test_size=0.2,random_state=47)"
   ]
  },
  {
   "cell_type": "code",
   "execution_count": 45,
   "id": "8d86297f",
   "metadata": {},
   "outputs": [],
   "source": [
    "#Scaling using min max scaler"
   ]
  },
  {
   "cell_type": "code",
   "execution_count": 46,
   "id": "e803a2e0",
   "metadata": {},
   "outputs": [],
   "source": [
    "# data normalization with sklearn\n",
    "from sklearn.preprocessing import MinMaxScaler\n",
    "\n",
    "# fit scaler on training data\n",
    "norm = MinMaxScaler().fit(x_train)\n",
    "\n",
    "# transform training data\n",
    "x_train_norm = norm.transform(x_train)\n",
    "\n",
    "# transform testing dataabs\n",
    "x_test_norm = norm.transform(x_test)"
   ]
  },
  {
   "cell_type": "code",
   "execution_count": 47,
   "id": "cf1672bb",
   "metadata": {},
   "outputs": [],
   "source": [
    "x_test=pd.DataFrame(x_test_norm)\n",
    "x_train=pd.DataFrame(x_train_norm)"
   ]
  },
  {
   "cell_type": "code",
   "execution_count": 48,
   "id": "a89565ae",
   "metadata": {},
   "outputs": [
    {
     "data": {
      "text/html": [
       "<div>\n",
       "<style scoped>\n",
       "    .dataframe tbody tr th:only-of-type {\n",
       "        vertical-align: middle;\n",
       "    }\n",
       "\n",
       "    .dataframe tbody tr th {\n",
       "        vertical-align: top;\n",
       "    }\n",
       "\n",
       "    .dataframe thead th {\n",
       "        text-align: right;\n",
       "    }\n",
       "</style>\n",
       "<table border=\"1\" class=\"dataframe\">\n",
       "  <thead>\n",
       "    <tr style=\"text-align: right;\">\n",
       "      <th></th>\n",
       "      <th>0</th>\n",
       "      <th>1</th>\n",
       "      <th>2</th>\n",
       "      <th>3</th>\n",
       "      <th>4</th>\n",
       "      <th>5</th>\n",
       "    </tr>\n",
       "  </thead>\n",
       "  <tbody>\n",
       "    <tr>\n",
       "      <th>count</th>\n",
       "      <td>654.000000</td>\n",
       "      <td>654.000000</td>\n",
       "      <td>654.000000</td>\n",
       "      <td>654.000000</td>\n",
       "      <td>654.000000</td>\n",
       "      <td>654.000000</td>\n",
       "    </tr>\n",
       "    <tr>\n",
       "      <th>mean</th>\n",
       "      <td>0.665870</td>\n",
       "      <td>0.646789</td>\n",
       "      <td>0.622134</td>\n",
       "      <td>0.182627</td>\n",
       "      <td>0.159814</td>\n",
       "      <td>0.354385</td>\n",
       "    </tr>\n",
       "    <tr>\n",
       "      <th>std</th>\n",
       "      <td>0.410674</td>\n",
       "      <td>0.478333</td>\n",
       "      <td>0.171020</td>\n",
       "      <td>0.289833</td>\n",
       "      <td>0.326934</td>\n",
       "      <td>0.185622</td>\n",
       "    </tr>\n",
       "    <tr>\n",
       "      <th>min</th>\n",
       "      <td>0.000000</td>\n",
       "      <td>0.000000</td>\n",
       "      <td>0.000000</td>\n",
       "      <td>0.000000</td>\n",
       "      <td>0.000000</td>\n",
       "      <td>0.000000</td>\n",
       "    </tr>\n",
       "    <tr>\n",
       "      <th>25%</th>\n",
       "      <td>0.565826</td>\n",
       "      <td>0.000000</td>\n",
       "      <td>0.559435</td>\n",
       "      <td>0.000000</td>\n",
       "      <td>0.000000</td>\n",
       "      <td>0.218842</td>\n",
       "    </tr>\n",
       "    <tr>\n",
       "      <th>50%</th>\n",
       "      <td>1.000000</td>\n",
       "      <td>1.000000</td>\n",
       "      <td>0.606879</td>\n",
       "      <td>0.000000</td>\n",
       "      <td>0.000000</td>\n",
       "      <td>0.280805</td>\n",
       "    </tr>\n",
       "    <tr>\n",
       "      <th>75%</th>\n",
       "      <td>1.000000</td>\n",
       "      <td>1.000000</td>\n",
       "      <td>0.721850</td>\n",
       "      <td>0.577350</td>\n",
       "      <td>0.000000</td>\n",
       "      <td>0.410212</td>\n",
       "    </tr>\n",
       "    <tr>\n",
       "      <th>max</th>\n",
       "      <td>1.000000</td>\n",
       "      <td>1.000000</td>\n",
       "      <td>1.000000</td>\n",
       "      <td>1.000000</td>\n",
       "      <td>1.000000</td>\n",
       "      <td>1.000000</td>\n",
       "    </tr>\n",
       "  </tbody>\n",
       "</table>\n",
       "</div>"
      ],
      "text/plain": [
       "                0           1           2           3           4           5\n",
       "count  654.000000  654.000000  654.000000  654.000000  654.000000  654.000000\n",
       "mean     0.665870    0.646789    0.622134    0.182627    0.159814    0.354385\n",
       "std      0.410674    0.478333    0.171020    0.289833    0.326934    0.185622\n",
       "min      0.000000    0.000000    0.000000    0.000000    0.000000    0.000000\n",
       "25%      0.565826    0.000000    0.559435    0.000000    0.000000    0.218842\n",
       "50%      1.000000    1.000000    0.606879    0.000000    0.000000    0.280805\n",
       "75%      1.000000    1.000000    0.721850    0.577350    0.000000    0.410212\n",
       "max      1.000000    1.000000    1.000000    1.000000    1.000000    1.000000"
      ]
     },
     "execution_count": 48,
     "metadata": {},
     "output_type": "execute_result"
    }
   ],
   "source": [
    "x_train.describe()"
   ]
  },
  {
   "cell_type": "code",
   "execution_count": 49,
   "id": "75a2b1cb",
   "metadata": {},
   "outputs": [],
   "source": [
    "#Model Building"
   ]
  },
  {
   "cell_type": "code",
   "execution_count": 50,
   "id": "e2182010",
   "metadata": {},
   "outputs": [],
   "source": [
    "from sklearn.model_selection import train_test_split\n",
    "from sklearn.metrics import classification_report, confusion_matrix\n",
    "from sklearn.ensemble import RandomForestClassifier\n",
    "from sklearn.metrics import accuracy_score,confusion_matrix,classification_report"
   ]
  },
  {
   "cell_type": "code",
   "execution_count": 51,
   "id": "3c6e93e9",
   "metadata": {},
   "outputs": [],
   "source": [
    "# RandomforestClassifier"
   ]
  },
  {
   "cell_type": "code",
   "execution_count": 52,
   "id": "6d7d3ea6",
   "metadata": {},
   "outputs": [
    {
     "name": "stdout",
     "output_type": "stream",
     "text": [
      "              precision    recall  f1-score   support\n",
      "\n",
      "         0.0       0.83      0.87      0.85       108\n",
      "         1.0       0.73      0.66      0.69        56\n",
      "\n",
      "    accuracy                           0.80       164\n",
      "   macro avg       0.78      0.77      0.77       164\n",
      "weighted avg       0.80      0.80      0.80       164\n",
      "\n"
     ]
    }
   ],
   "source": [
    "clf= RandomForestClassifier(n_estimators=700).fit(x_train, y_train)\n",
    "predRFC= clf.predict(x_test)\n",
    "randomforest_accu=accuracy_score(y_test,predRFC)\n",
    "randomforest_accu\n",
    "#print(confusion_matrix(y_test, predRFC))\n",
    "print(classification_report(y_test, predRFC))"
   ]
  },
  {
   "cell_type": "code",
   "execution_count": 53,
   "id": "f526d47d",
   "metadata": {},
   "outputs": [
    {
     "data": {
      "text/plain": [
       "0.7987804878048781"
      ]
     },
     "execution_count": 53,
     "metadata": {},
     "output_type": "execute_result"
    }
   ],
   "source": [
    "randomforest_accu"
   ]
  },
  {
   "cell_type": "code",
   "execution_count": 54,
   "id": "ef7d9bb1",
   "metadata": {},
   "outputs": [
    {
     "name": "stdout",
     "output_type": "stream",
     "text": [
      "[0.87878788 0.74242424 0.77272727 0.89393939 0.81538462 0.81538462\n",
      " 0.78461538 0.81538462 0.8        0.87692308]\n"
     ]
    }
   ],
   "source": [
    "from sklearn.model_selection import cross_val_score\n",
    "print(cross_val_score(clf, x_train, y_train, cv=10))"
   ]
  },
  {
   "cell_type": "code",
   "execution_count": 55,
   "id": "4901925d",
   "metadata": {},
   "outputs": [
    {
     "data": {
      "text/plain": [
       "0.8027522935779817"
      ]
     },
     "execution_count": 55,
     "metadata": {},
     "output_type": "execute_result"
    }
   ],
   "source": [
    "from sklearn.model_selection import cross_val_score\n",
    "randomforest_cv= cross_val_score(clf,x_train,y_train,scoring='accuracy', cv = 3).mean()\n",
    "randomforest_cv"
   ]
  },
  {
   "cell_type": "code",
   "execution_count": 56,
   "id": "5e170d06",
   "metadata": {},
   "outputs": [],
   "source": [
    "#SVC"
   ]
  },
  {
   "cell_type": "code",
   "execution_count": 57,
   "id": "9f47eb15",
   "metadata": {},
   "outputs": [
    {
     "name": "stdout",
     "output_type": "stream",
     "text": [
      "0.823170731707317\n",
      "[[98 10]\n",
      " [19 37]]\n",
      "              precision    recall  f1-score   support\n",
      "\n",
      "         0.0       0.84      0.91      0.87       108\n",
      "         1.0       0.79      0.66      0.72        56\n",
      "\n",
      "    accuracy                           0.82       164\n",
      "   macro avg       0.81      0.78      0.79       164\n",
      "weighted avg       0.82      0.82      0.82       164\n",
      "\n"
     ]
    }
   ],
   "source": [
    "from sklearn.svm import SVC\n",
    "from sklearn.model_selection import cross_val_score\n",
    "from sklearn import svm\n",
    "from sklearn.svm import LinearSVC\n",
    "svc=SVC(kernel='rbf')\n",
    "svc.fit(x_train,y_train)\n",
    "\n",
    "#svc = LinearSVC(random_state=0, tol=1e-5)\n",
    "#svc.fit(x_train, y_train.ravel()) \n",
    "\n",
    "\n",
    "svc.score(x_train,y_train)\n",
    "predsvc=svc.predict(x_test)\n",
    "svc_acc=accuracy_score(y_test,predsvc)\n",
    "print(svc_acc)\n",
    "print(confusion_matrix(y_test,predsvc))\n",
    "print(classification_report(y_test,predsvc))"
   ]
  },
  {
   "cell_type": "code",
   "execution_count": 58,
   "id": "d1c80bf7",
   "metadata": {},
   "outputs": [
    {
     "data": {
      "text/plain": [
       "0.8020325203252032"
      ]
     },
     "execution_count": 58,
     "metadata": {},
     "output_type": "execute_result"
    }
   ],
   "source": [
    "svc_cv=cross_val_score(svc,x,y,scoring='accuracy', cv = 10).mean()\n",
    "svc_cv"
   ]
  },
  {
   "cell_type": "code",
   "execution_count": 59,
   "id": "7af975a8",
   "metadata": {},
   "outputs": [],
   "source": [
    "#Decision TreeClassifier"
   ]
  },
  {
   "cell_type": "code",
   "execution_count": 60,
   "id": "53ed3a83",
   "metadata": {},
   "outputs": [
    {
     "name": "stdout",
     "output_type": "stream",
     "text": [
      "0.7560975609756098\n"
     ]
    },
    {
     "data": {
      "text/html": [
       "<div>\n",
       "<style scoped>\n",
       "    .dataframe tbody tr th:only-of-type {\n",
       "        vertical-align: middle;\n",
       "    }\n",
       "\n",
       "    .dataframe tbody tr th {\n",
       "        vertical-align: top;\n",
       "    }\n",
       "\n",
       "    .dataframe thead th {\n",
       "        text-align: right;\n",
       "    }\n",
       "</style>\n",
       "<table border=\"1\" class=\"dataframe\">\n",
       "  <thead>\n",
       "    <tr style=\"text-align: right;\">\n",
       "      <th></th>\n",
       "      <th>precision</th>\n",
       "      <th>recall</th>\n",
       "      <th>f1-score</th>\n",
       "      <th>support</th>\n",
       "    </tr>\n",
       "  </thead>\n",
       "  <tbody>\n",
       "    <tr>\n",
       "      <th>0.0</th>\n",
       "      <td>0.814815</td>\n",
       "      <td>0.814815</td>\n",
       "      <td>0.814815</td>\n",
       "      <td>108.000000</td>\n",
       "    </tr>\n",
       "    <tr>\n",
       "      <th>1.0</th>\n",
       "      <td>0.642857</td>\n",
       "      <td>0.642857</td>\n",
       "      <td>0.642857</td>\n",
       "      <td>56.000000</td>\n",
       "    </tr>\n",
       "    <tr>\n",
       "      <th>accuracy</th>\n",
       "      <td>0.756098</td>\n",
       "      <td>0.756098</td>\n",
       "      <td>0.756098</td>\n",
       "      <td>0.756098</td>\n",
       "    </tr>\n",
       "    <tr>\n",
       "      <th>macro avg</th>\n",
       "      <td>0.728836</td>\n",
       "      <td>0.728836</td>\n",
       "      <td>0.728836</td>\n",
       "      <td>164.000000</td>\n",
       "    </tr>\n",
       "    <tr>\n",
       "      <th>weighted avg</th>\n",
       "      <td>0.756098</td>\n",
       "      <td>0.756098</td>\n",
       "      <td>0.756098</td>\n",
       "      <td>164.000000</td>\n",
       "    </tr>\n",
       "  </tbody>\n",
       "</table>\n",
       "</div>"
      ],
      "text/plain": [
       "              precision    recall  f1-score     support\n",
       "0.0            0.814815  0.814815  0.814815  108.000000\n",
       "1.0            0.642857  0.642857  0.642857   56.000000\n",
       "accuracy       0.756098  0.756098  0.756098    0.756098\n",
       "macro avg      0.728836  0.728836  0.728836  164.000000\n",
       "weighted avg   0.756098  0.756098  0.756098  164.000000"
      ]
     },
     "execution_count": 60,
     "metadata": {},
     "output_type": "execute_result"
    }
   ],
   "source": [
    "from sklearn.tree import DecisionTreeClassifier\n",
    "DTC = DecisionTreeClassifier()\n",
    "\n",
    "DTC.fit(x_train,y_train)\n",
    "\n",
    "predDTC = DTC.predict(x_test)\n",
    "\n",
    "reportDTC = classification_report(y_test,predDTC, output_dict = True)\n",
    "\n",
    "crDTC = pd.DataFrame(reportDTC).transpose()\n",
    "dtc_acc=accuracy_score(y_test,predDTC)\n",
    "print(dtc_acc)\n",
    "crDTC"
   ]
  },
  {
   "cell_type": "code",
   "execution_count": 61,
   "id": "1ee71f4b",
   "metadata": {},
   "outputs": [
    {
     "data": {
      "text/plain": [
       "0.7824149352604637"
      ]
     },
     "execution_count": 61,
     "metadata": {},
     "output_type": "execute_result"
    }
   ],
   "source": [
    "from sklearn.model_selection import cross_val_score\n",
    "dtc_cv=cross_val_score(DTC,x,y,scoring='accuracy', cv = 10).mean()\n",
    "dtc_cv"
   ]
  },
  {
   "cell_type": "code",
   "execution_count": 62,
   "id": "f733e7ac",
   "metadata": {},
   "outputs": [],
   "source": [
    "#GaussianNB"
   ]
  },
  {
   "cell_type": "code",
   "execution_count": 63,
   "id": "757209f6",
   "metadata": {},
   "outputs": [
    {
     "name": "stdout",
     "output_type": "stream",
     "text": [
      "0.8048780487804879\n"
     ]
    },
    {
     "data": {
      "text/html": [
       "<div>\n",
       "<style scoped>\n",
       "    .dataframe tbody tr th:only-of-type {\n",
       "        vertical-align: middle;\n",
       "    }\n",
       "\n",
       "    .dataframe tbody tr th {\n",
       "        vertical-align: top;\n",
       "    }\n",
       "\n",
       "    .dataframe thead th {\n",
       "        text-align: right;\n",
       "    }\n",
       "</style>\n",
       "<table border=\"1\" class=\"dataframe\">\n",
       "  <thead>\n",
       "    <tr style=\"text-align: right;\">\n",
       "      <th></th>\n",
       "      <th>precision</th>\n",
       "      <th>recall</th>\n",
       "      <th>f1-score</th>\n",
       "      <th>support</th>\n",
       "    </tr>\n",
       "  </thead>\n",
       "  <tbody>\n",
       "    <tr>\n",
       "      <th>0.0</th>\n",
       "      <td>0.839286</td>\n",
       "      <td>0.870370</td>\n",
       "      <td>0.854545</td>\n",
       "      <td>108.000000</td>\n",
       "    </tr>\n",
       "    <tr>\n",
       "      <th>1.0</th>\n",
       "      <td>0.730769</td>\n",
       "      <td>0.678571</td>\n",
       "      <td>0.703704</td>\n",
       "      <td>56.000000</td>\n",
       "    </tr>\n",
       "    <tr>\n",
       "      <th>accuracy</th>\n",
       "      <td>0.804878</td>\n",
       "      <td>0.804878</td>\n",
       "      <td>0.804878</td>\n",
       "      <td>0.804878</td>\n",
       "    </tr>\n",
       "    <tr>\n",
       "      <th>macro avg</th>\n",
       "      <td>0.785027</td>\n",
       "      <td>0.774471</td>\n",
       "      <td>0.779125</td>\n",
       "      <td>164.000000</td>\n",
       "    </tr>\n",
       "    <tr>\n",
       "      <th>weighted avg</th>\n",
       "      <td>0.802231</td>\n",
       "      <td>0.804878</td>\n",
       "      <td>0.803039</td>\n",
       "      <td>164.000000</td>\n",
       "    </tr>\n",
       "  </tbody>\n",
       "</table>\n",
       "</div>"
      ],
      "text/plain": [
       "              precision    recall  f1-score     support\n",
       "0.0            0.839286  0.870370  0.854545  108.000000\n",
       "1.0            0.730769  0.678571  0.703704   56.000000\n",
       "accuracy       0.804878  0.804878  0.804878    0.804878\n",
       "macro avg      0.785027  0.774471  0.779125  164.000000\n",
       "weighted avg   0.802231  0.804878  0.803039  164.000000"
      ]
     },
     "execution_count": 63,
     "metadata": {},
     "output_type": "execute_result"
    }
   ],
   "source": [
    "from sklearn.naive_bayes import GaussianNB\n",
    "GNB = GaussianNB()\n",
    "\n",
    "GNB.fit(x_train,y_train)\n",
    "\n",
    "predGNB = GNB.predict(x_test)\n",
    "\n",
    "reportGNB = classification_report(y_test, predGNB, output_dict = True)\n",
    "  \n",
    "crGNB = pd.DataFrame(reportGNB).transpose()\n",
    "gnb_acc=accuracy_score(y_test,predGNB)\n",
    "print(gnb_acc)\n",
    "crGNB"
   ]
  },
  {
   "cell_type": "code",
   "execution_count": 64,
   "id": "690553a5",
   "metadata": {},
   "outputs": [
    {
     "data": {
      "text/plain": [
       "0.7715146040349292"
      ]
     },
     "execution_count": 64,
     "metadata": {},
     "output_type": "execute_result"
    }
   ],
   "source": [
    "gnb_cv=cross_val_score(GNB,x,y,scoring='accuracy', cv = 10).mean()\n",
    "gnb_cv"
   ]
  },
  {
   "cell_type": "code",
   "execution_count": 65,
   "id": "2ddbe7ff",
   "metadata": {},
   "outputs": [],
   "source": [
    "#KNeighorsClassifer"
   ]
  },
  {
   "cell_type": "code",
   "execution_count": 66,
   "id": "9967be78",
   "metadata": {},
   "outputs": [
    {
     "name": "stdout",
     "output_type": "stream",
     "text": [
      "0.7926829268292683\n"
     ]
    },
    {
     "data": {
      "text/html": [
       "<div>\n",
       "<style scoped>\n",
       "    .dataframe tbody tr th:only-of-type {\n",
       "        vertical-align: middle;\n",
       "    }\n",
       "\n",
       "    .dataframe tbody tr th {\n",
       "        vertical-align: top;\n",
       "    }\n",
       "\n",
       "    .dataframe thead th {\n",
       "        text-align: right;\n",
       "    }\n",
       "</style>\n",
       "<table border=\"1\" class=\"dataframe\">\n",
       "  <thead>\n",
       "    <tr style=\"text-align: right;\">\n",
       "      <th></th>\n",
       "      <th>precision</th>\n",
       "      <th>recall</th>\n",
       "      <th>f1-score</th>\n",
       "      <th>support</th>\n",
       "    </tr>\n",
       "  </thead>\n",
       "  <tbody>\n",
       "    <tr>\n",
       "      <th>0.0</th>\n",
       "      <td>0.824561</td>\n",
       "      <td>0.870370</td>\n",
       "      <td>0.846847</td>\n",
       "      <td>108.000000</td>\n",
       "    </tr>\n",
       "    <tr>\n",
       "      <th>1.0</th>\n",
       "      <td>0.720000</td>\n",
       "      <td>0.642857</td>\n",
       "      <td>0.679245</td>\n",
       "      <td>56.000000</td>\n",
       "    </tr>\n",
       "    <tr>\n",
       "      <th>accuracy</th>\n",
       "      <td>0.792683</td>\n",
       "      <td>0.792683</td>\n",
       "      <td>0.792683</td>\n",
       "      <td>0.792683</td>\n",
       "    </tr>\n",
       "    <tr>\n",
       "      <th>macro avg</th>\n",
       "      <td>0.772281</td>\n",
       "      <td>0.756614</td>\n",
       "      <td>0.763046</td>\n",
       "      <td>164.000000</td>\n",
       "    </tr>\n",
       "    <tr>\n",
       "      <th>weighted avg</th>\n",
       "      <td>0.788858</td>\n",
       "      <td>0.792683</td>\n",
       "      <td>0.789617</td>\n",
       "      <td>164.000000</td>\n",
       "    </tr>\n",
       "  </tbody>\n",
       "</table>\n",
       "</div>"
      ],
      "text/plain": [
       "              precision    recall  f1-score     support\n",
       "0.0            0.824561  0.870370  0.846847  108.000000\n",
       "1.0            0.720000  0.642857  0.679245   56.000000\n",
       "accuracy       0.792683  0.792683  0.792683    0.792683\n",
       "macro avg      0.772281  0.756614  0.763046  164.000000\n",
       "weighted avg   0.788858  0.792683  0.789617  164.000000"
      ]
     },
     "execution_count": 66,
     "metadata": {},
     "output_type": "execute_result"
    }
   ],
   "source": [
    "from sklearn.neighbors import KNeighborsClassifier\n",
    "KNN = KNeighborsClassifier()\n",
    "\n",
    "KNN.fit(x_train,y_train)\n",
    "\n",
    "predKNN = KNN.predict(x_test)\n",
    "\n",
    "reportKNN = classification_report(y_test,predKNN, output_dict = True)\n",
    "\n",
    "crKNN = pd.DataFrame(reportKNN).transpose()\n",
    "knn_acc=accuracy_score(y_test,predKNN)\n",
    "print(knn_acc)\n",
    "crKNN"
   ]
  },
  {
   "cell_type": "code",
   "execution_count": 67,
   "id": "d3a4e551",
   "metadata": {},
   "outputs": [
    {
     "data": {
      "text/plain": [
       "0.8032821439325504"
      ]
     },
     "execution_count": 67,
     "metadata": {},
     "output_type": "execute_result"
    }
   ],
   "source": [
    "knn_cv=cross_val_score(KNN,x,y,scoring='accuracy', cv = 10).mean()\n",
    "knn_cv"
   ]
  },
  {
   "cell_type": "code",
   "execution_count": 68,
   "id": "435f0beb",
   "metadata": {},
   "outputs": [],
   "source": [
    "#Hyper parameter tuning\n",
    "                "
   ]
  },
  {
   "cell_type": "code",
   "execution_count": 69,
   "id": "c9d098c1",
   "metadata": {},
   "outputs": [],
   "source": [
    "# Performing hyper parameter tuning for  four best model according the accuracy and cross validation score"
   ]
  },
  {
   "cell_type": "code",
   "execution_count": 70,
   "id": "85e26a04",
   "metadata": {},
   "outputs": [
    {
     "name": "stdout",
     "output_type": "stream",
     "text": [
      "0 0.6594438976377954\n",
      "least value 0 0.6594438976377954\n",
      "1 0.9013452955313421\n",
      "2 0.9926919291338582\n",
      "3 0.8571580377852027\n",
      "4 0.8306276301653746\n",
      "5 0.8359787499322383\n",
      "6 0.8461345369831097\n",
      "7 1.0252081001856164\n",
      "8 0.927940632658072\n",
      "9 0.7980953269618173\n",
      "10 0.8110172407049567\n",
      "11 0.776262579927331\n",
      "12 0.8174271829762718\n",
      "13 0.7252913289560802\n",
      "14 0.716040498341663\n",
      "15 0.6982233028287703\n",
      "16 0.9152670853093575\n",
      "17 1.0844095321296832\n",
      "18 0.7647630147630148\n",
      "19 0.9874652710473607\n",
      "20 1.050928886407051\n",
      "21 0.8886930876981404\n",
      "22 0.7302623676792308\n",
      "23 0.8785047954081892\n",
      "24 0.9695748567357005\n",
      "25 0.933260920992655\n",
      "26 0.9753977688203996\n",
      "27 0.8886546517407046\n",
      "28 0.9540095088077643\n",
      "29 0.922130905511811\n",
      "30 1.0351526136121716\n",
      "31 0.9675546278387003\n",
      "32 0.9794637146773382\n",
      "33 0.786326522966317\n",
      "34 0.9474547736706938\n",
      "35 0.8184656944243739\n",
      "36 1.0199531089065972\n",
      "37 1.0375760795893831\n",
      "38 1.0334327171536477\n",
      "39 0.8711519368071675\n",
      "40 0.7339093032056785\n",
      "41 0.6853648289694804\n",
      "42 0.8757404094613398\n",
      "43 0.9350049212598428\n",
      "44 0.9271989904872838\n",
      "45 0.9795488377410455\n",
      "46 0.8238534721092861\n",
      "47 1.0337135702457405\n",
      "48 1.0489574536811541\n",
      "49 0.8755790748198754\n",
      "50 0.873598919441137\n",
      "51 1.0257822154707312\n",
      "52 0.8989545162253052\n",
      "53 0.8308620135761731\n",
      "54 0.9344173868956999\n",
      "55 0.8207874961425867\n",
      "56 1.2188726398007237\n",
      "57 0.7631279791760374\n",
      "58 0.921561718312477\n",
      "59 0.9731097302565286\n",
      "60 0.976496072283898\n",
      "61 0.9219032905079418\n",
      "62 1.050928886407051\n",
      "63 0.8323818897637797\n",
      "64 0.9929372951018512\n",
      "65 0.9247817837882247\n",
      "66 0.9447315261619158\n",
      "67 0.960929845324173\n",
      "68 1.1092136068745053\n",
      "69 0.9969309868441241\n",
      "70 0.9344800557012801\n",
      "71 0.8870410759723738\n",
      "72 0.976496072283898\n",
      "73 0.6914521278575655\n",
      "74 1.005442913385827\n",
      "75 0.64191570834379\n",
      "least value 75 0.64191570834379\n",
      "76 1.1148980975054603\n",
      "77 0.8720584606521937\n",
      "78 0.939628735293948\n",
      "79 0.9479594452051787\n",
      "80 0.9543159448818898\n",
      "81 0.7915993481401316\n",
      "82 1.022094922617838\n",
      "83 0.9311577306748323\n",
      "84 0.9051716237924108\n",
      "85 0.7793111593760413\n",
      "86 0.7683809055118112\n",
      "87 0.870933147911836\n",
      "88 0.8570262561616275\n",
      "89 0.9149635512513024\n",
      "90 0.8358344982608628\n",
      "91 0.6555157661926011\n",
      "92 0.943209893636333\n",
      "93 0.8193206906694706\n",
      "94 0.8837549212598426\n",
      "95 0.7299234076367977\n",
      "96 0.801385683294173\n",
      "97 0.8095862462841169\n",
      "98 0.9536158839143534\n",
      "99 0.8646265288183248\n"
     ]
    }
   ],
   "source": [
    "#FINDING BEST RANDOM STATE\n",
    "\n",
    "from sklearn.metrics import r2_score\n",
    "d=5\n",
    "for i in range(0,100):\n",
    "  x_train, x_test, y_train, y_test = train_test_split(x,y,test_size=0.2,random_state=i)\n",
    "  DTC.fit(x_train,y_train)\n",
    "  pred_train=DTC.predict(x_train)\n",
    "  pred_test = DTC.predict(x_test)\n",
    "  a=r2_score(y_train,pred_train)\n",
    "  b=r2_score(y_test,pred_test)\n",
    "  c=a-b\n",
    "  print(i,c)\n",
    "  if d>=c:\n",
    "    d=c\n",
    "    print(\"least value\",i,d)\n",
    "  #a[i]=c\n",
    "  #print(f\"At randome state {i}, the training accuracy is :- {r2_score(y_train,pred_train)}\")\n",
    "  #print(f\"At randome state {i}, the test accuracy is :- {r2_score(y_test,pred_test)}\")"
   ]
  },
  {
   "cell_type": "code",
   "execution_count": 71,
   "id": "c2a74e6d",
   "metadata": {},
   "outputs": [],
   "source": [
    "x_train, x_test, y_train, y_test = train_test_split(x,y,test_size=0.2,random_state=47)"
   ]
  },
  {
   "cell_type": "code",
   "execution_count": 72,
   "id": "9135e432",
   "metadata": {},
   "outputs": [],
   "source": [
    "# DecisiontreeClassifier"
   ]
  },
  {
   "cell_type": "code",
   "execution_count": 74,
   "id": "08540b23",
   "metadata": {},
   "outputs": [],
   "source": [
    "from sklearn.model_selection import GridSearchCV\n",
    "parameter ={ 'max_depth': np.arange(2,10),'criterion':['gini','entropy'],'splitter':['best', 'random']}"
   ]
  },
  {
   "cell_type": "code",
   "execution_count": 75,
   "id": "f8768629",
   "metadata": {},
   "outputs": [
    {
     "data": {
      "text/plain": [
       "GridSearchCV(cv=5, estimator=DecisionTreeClassifier(),\n",
       "             param_grid={'criterion': ['gini', 'entropy'],\n",
       "                         'max_depth': array([2, 3, 4, 5, 6, 7, 8, 9]),\n",
       "                         'splitter': ['best', 'random']})"
      ]
     },
     "execution_count": 75,
     "metadata": {},
     "output_type": "execute_result"
    }
   ],
   "source": [
    "GCV=GridSearchCV(DecisionTreeClassifier(),parameter,cv=5)\n",
    "GCV.fit(x_train,y_train)"
   ]
  },
  {
   "cell_type": "code",
   "execution_count": 76,
   "id": "08ba37c9",
   "metadata": {},
   "outputs": [
    {
     "data": {
      "text/plain": [
       "{'criterion': 'gini', 'max_depth': 2, 'splitter': 'best'}"
      ]
     },
     "execution_count": 76,
     "metadata": {},
     "output_type": "execute_result"
    }
   ],
   "source": [
    "GCV.best_params_"
   ]
  },
  {
   "cell_type": "code",
   "execution_count": 77,
   "id": "31f5bfef",
   "metadata": {},
   "outputs": [],
   "source": [
    "# Create the some more parameters list\n",
    "parameters_DT = {'max_depth': [6,7,8,9,10],\n",
    "'min_samples_leaf': [2,3,4,5,6,7],\n",
    "'min_samples_split': [2,3,4,5,6,7]}"
   ]
  },
  {
   "cell_type": "code",
   "execution_count": 78,
   "id": "9b8fe248",
   "metadata": {},
   "outputs": [
    {
     "data": {
      "text/plain": [
       "GridSearchCV(cv=5, estimator=DecisionTreeClassifier(),\n",
       "             param_grid={'max_depth': [6, 7, 8, 9, 10],\n",
       "                         'min_samples_leaf': [2, 3, 4, 5, 6, 7],\n",
       "                         'min_samples_split': [2, 3, 4, 5, 6, 7]})"
      ]
     },
     "execution_count": 78,
     "metadata": {},
     "output_type": "execute_result"
    }
   ],
   "source": [
    "GCV=GridSearchCV(DecisionTreeClassifier(),parameters_DT,cv=5)\n",
    "GCV.fit(x_train,y_train)"
   ]
  },
  {
   "cell_type": "code",
   "execution_count": 79,
   "id": "b9847a6a",
   "metadata": {},
   "outputs": [
    {
     "name": "stdout",
     "output_type": "stream",
     "text": [
      "0.7987804878048781\n"
     ]
    }
   ],
   "source": [
    "final_mod=DecisionTreeClassifier(criterion='entropy',splitter= 'random',random_state = 1,max_depth=10,min_samples_leaf= 6, min_samples_split= 7)\n",
    "final_mod.fit(x_train,y_train)\n",
    "pred=final_mod.predict(x_test)\n",
    "acc=accuracy_score(y_test,pred)\n",
    "print(acc)"
   ]
  },
  {
   "cell_type": "code",
   "execution_count": 80,
   "id": "28831895",
   "metadata": {},
   "outputs": [
    {
     "data": {
      "text/plain": [
       "0.7946552243300211"
      ]
     },
     "execution_count": 80,
     "metadata": {},
     "output_type": "execute_result"
    }
   ],
   "source": [
    "dt_cv=cross_val_score(final_mod,x,y,scoring='accuracy', cv = 10).mean()\n",
    "dt_cv"
   ]
  },
  {
   "cell_type": "code",
   "execution_count": 81,
   "id": "1a206716",
   "metadata": {},
   "outputs": [],
   "source": [
    "dt_final=pred\n",
    "dt_finalmod=final_mod"
   ]
  },
  {
   "cell_type": "code",
   "execution_count": 82,
   "id": "5d65cf5d",
   "metadata": {},
   "outputs": [],
   "source": [
    "#Random Forest Classifier"
   ]
  },
  {
   "cell_type": "code",
   "execution_count": 83,
   "id": "1d0a6da1",
   "metadata": {},
   "outputs": [
    {
     "name": "stdout",
     "output_type": "stream",
     "text": [
      "Best Hyper Parameters:\n",
      " {'criterion': 'entropy', 'min_samples_leaf': 2, 'min_samples_split': 5, 'n_estimators': 20, 'n_jobs': -1, 'random_state': 123}\n",
      "Accuracy: 0.7926829268292683\n",
      "Confusion Metrix:\n",
      " [[93 19]\n",
      " [15 37]]\n"
     ]
    }
   ],
   "source": [
    "#With Hyper Parameters Tuning\n",
    "#2-2,Randomforest\n",
    "#importing modules\n",
    "from sklearn.model_selection import GridSearchCV\n",
    "from sklearn.ensemble import RandomForestClassifier\n",
    "#making the instance\n",
    "model=RandomForestClassifier()\n",
    "#hyper parameters set\n",
    "params = {'criterion':['gini','entropy'],\n",
    "          'n_estimators':[10,15,20,25,30],\n",
    "          'min_samples_leaf':[1,2,3],\n",
    "          'min_samples_split':[3,4,5,6,7], \n",
    "          'random_state':[123],\n",
    "          'n_jobs':[-1]}\n",
    "#Making models with hyper parameters sets\n",
    "model1 = GridSearchCV(model, param_grid=params, n_jobs=-1)\n",
    "#learning\n",
    "model1.fit(x_train,y_train)\n",
    "#The best hyper parameters set\n",
    "print(\"Best Hyper Parameters:\\n\",model1.best_params_)\n",
    "#Prediction\n",
    "prediction=model1.predict(x_test)\n",
    "#importing the metrics module\n",
    "from sklearn import metrics\n",
    "#evaluation(Accuracy)\n",
    "print(\"Accuracy:\",metrics.accuracy_score(prediction,y_test))\n",
    "#evaluation(Confusion Metrix)\n",
    "print(\"Confusion Metrix:\\n\",metrics.confusion_matrix(prediction,y_test))\n",
    "rf_final=prediction\n",
    "rf_finalmod=model1"
   ]
  },
  {
   "cell_type": "code",
   "execution_count": 84,
   "id": "95f71ec3",
   "metadata": {},
   "outputs": [
    {
     "data": {
      "text/plain": [
       "0.8117548301371831"
      ]
     },
     "execution_count": 84,
     "metadata": {},
     "output_type": "execute_result"
    }
   ],
   "source": [
    "rf_cv=cross_val_score(model1,x,y,scoring='accuracy', cv = 3).mean()\n",
    "rf_cv"
   ]
  },
  {
   "cell_type": "code",
   "execution_count": 87,
   "id": "6fdf6426",
   "metadata": {},
   "outputs": [],
   "source": [
    "#SVM"
   ]
  },
  {
   "cell_type": "code",
   "execution_count": 88,
   "id": "fa7ac7f8",
   "metadata": {},
   "outputs": [
    {
     "name": "stdout",
     "output_type": "stream",
     "text": [
      "Best Hyper Parameters:\n",
      " {'C': 9, 'kernel': 'rbf'}\n",
      "Accuracy: 0.8048780487804879\n",
      "Confusion Metrix:\n",
      " [[95 19]\n",
      " [13 37]]\n"
     ]
    }
   ],
   "source": [
    "#With Hyper Parameters Tuning\n",
    "#2-3,SVM\n",
    "#importing modules\n",
    "from sklearn.model_selection import GridSearchCV\n",
    "from sklearn import svm\n",
    "#making the instance\n",
    "model=svm.SVC()\n",
    "#Hyper Parameters Set\n",
    "params = {'C': [6,7,8,9,10,11,12], \n",
    "          'kernel': ['linear','rbf']}\n",
    "#Making models with hyper parameters sets\n",
    "model1 = GridSearchCV(model, param_grid=params, n_jobs=-1)\n",
    "#Learning\n",
    "model1.fit(x_train,y_train)\n",
    "#The best hyper parameters set\n",
    "print(\"Best Hyper Parameters:\\n\",model1.best_params_)\n",
    "#Prediction\n",
    "prediction=model1.predict(x_test)\n",
    "#importing the metrics module\n",
    "from sklearn import metrics\n",
    "#evaluation(Accuracy)\n",
    "print(\"Accuracy:\",metrics.accuracy_score(prediction,y_test))\n",
    "#evaluation(Confusion Metrix)\n",
    "print(\"Confusion Metrix:\\n\",metrics.confusion_matrix(prediction,y_test))\n",
    "svm_final=prediction\n",
    "svm_finalmod=model1"
   ]
  },
  {
   "cell_type": "code",
   "execution_count": 89,
   "id": "97191479",
   "metadata": {},
   "outputs": [
    {
     "data": {
      "text/plain": [
       "0.8044564890093346"
      ]
     },
     "execution_count": 89,
     "metadata": {},
     "output_type": "execute_result"
    }
   ],
   "source": [
    "svc_cv=cross_val_score(model1,x,y,scoring='accuracy', cv = 10).mean()\n",
    "svc_cv"
   ]
  },
  {
   "cell_type": "code",
   "execution_count": 90,
   "id": "6dcd1cd7",
   "metadata": {},
   "outputs": [
    {
     "name": "stdout",
     "output_type": "stream",
     "text": [
      "Best Hyper Parameters:\n",
      " {'algorithm': 'auto', 'leaf_size': 2, 'n_jobs': -1, 'n_neighbors': 10, 'weights': 'distance'}\n",
      "Accuracy: 0.7926829268292683\n",
      "Confusion Metrix:\n",
      " [[91 17]\n",
      " [17 39]]\n"
     ]
    }
   ],
   "source": [
    "#With Hyper Parameters Tuning\n",
    "#2-4,kNearestNeighbors\n",
    "#importing modules\n",
    "from sklearn.model_selection import GridSearchCV\n",
    "from sklearn.neighbors import KNeighborsClassifier\n",
    "#making the instance\n",
    "model = KNeighborsClassifier(n_jobs=-1)\n",
    "#Hyper Parameters Set\n",
    "params = {'n_neighbors':[5,6,7,8,9,10],\n",
    "          'leaf_size':[1,2,3,5],\n",
    "          'weights':['uniform', 'distance'],\n",
    "          'algorithm':['auto', 'ball_tree','kd_tree','brute'],\n",
    "          'n_jobs':[-1]}\n",
    "#Making models with hyper parameters sets\n",
    "model1 = GridSearchCV(model, param_grid=params, n_jobs=1)\n",
    "#Learning\n",
    "model1.fit(x_train,y_train)\n",
    "#The best hyper parameters set\n",
    "print(\"Best Hyper Parameters:\\n\",model1.best_params_)\n",
    "#Prediction\n",
    "prediction=model1.predict(x_test)\n",
    "#importing the metrics module\n",
    "from sklearn import metrics\n",
    "#evaluation(Accuracy)\n",
    "print(\"Accuracy:\",metrics.accuracy_score(prediction,y_test))\n",
    "#evaluation(Confusion Metrix)\n",
    "print(\"Confusion Metrix:\\n\",metrics.confusion_matrix(prediction,y_test))\n",
    "knn_final=prediction\n",
    "knn_finalmod=model1"
   ]
  },
  {
   "cell_type": "code",
   "execution_count": 91,
   "id": "f74bfd56",
   "metadata": {},
   "outputs": [
    {
     "data": {
      "text/plain": [
       "0.7995784402288468"
      ]
     },
     "execution_count": 91,
     "metadata": {},
     "output_type": "execute_result"
    }
   ],
   "source": [
    "knn_cv=cross_val_score(model1,x,y,scoring='accuracy', cv = 10).mean()\n",
    "knn_cv"
   ]
  },
  {
   "cell_type": "code",
   "execution_count": 92,
   "id": "7518b49d",
   "metadata": {},
   "outputs": [],
   "source": [
    "from sklearn.datasets import make_circles\n",
    "from sklearn.metrics import accuracy_score\n",
    "from sklearn.metrics import precision_score\n",
    "from sklearn.metrics import recall_score\n",
    "from sklearn.metrics import f1_score\n",
    "from sklearn.metrics import cohen_kappa_score\n",
    "from sklearn.metrics import roc_auc_score\n",
    "from sklearn.metrics import confusion_matrix"
   ]
  },
  {
   "cell_type": "code",
   "execution_count": 93,
   "id": "e0f9c591",
   "metadata": {},
   "outputs": [
    {
     "data": {
      "text/plain": [
       "['final model.pkl']"
      ]
     },
     "execution_count": 93,
     "metadata": {},
     "output_type": "execute_result"
    }
   ],
   "source": [
    "import joblib\n",
    "joblib.dump(rf_finalmod,\"final model.pkl\")"
   ]
  },
  {
   "cell_type": "code",
   "execution_count": null,
   "id": "c4bc7877",
   "metadata": {},
   "outputs": [],
   "source": []
  },
  {
   "cell_type": "code",
   "execution_count": null,
   "id": "9a726417",
   "metadata": {},
   "outputs": [],
   "source": []
  }
 ],
 "metadata": {
  "kernelspec": {
   "display_name": "Python 3",
   "language": "python",
   "name": "python3"
  },
  "language_info": {
   "codemirror_mode": {
    "name": "ipython",
    "version": 3
   },
   "file_extension": ".py",
   "mimetype": "text/x-python",
   "name": "python",
   "nbconvert_exporter": "python",
   "pygments_lexer": "ipython3",
   "version": "3.8.8"
  }
 },
 "nbformat": 4,
 "nbformat_minor": 5
}
